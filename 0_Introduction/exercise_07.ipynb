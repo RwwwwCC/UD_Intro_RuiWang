{
 "cells": [
  {
   "cell_type": "code",
   "execution_count": 2,
   "id": "1b8e8c02",
   "metadata": {},
   "outputs": [
    {
     "name": "stdout",
     "output_type": "stream",
     "text": [
      "Please enter your guess number:1\n",
      "Please enter your guess number:2\n",
      "Please enter your guess number:3\n",
      "Please enter your guess number:4\n",
      "Please enter your guess number:5\n",
      "Please enter your guess number:6\n",
      "Please enter your guess number:7\n",
      "Please enter your guess number:89\n",
      "Please enter your guess number:8\n",
      "Please enter your guess number:9\n",
      "Please enter your guess number:10\n",
      "Please enter your guess number:11\n",
      "Please enter your guess number:12\n",
      "Please enter your guess number:13\n",
      "Please enter your guess number:18\n",
      "Please enter your guess number:19\n",
      "Congradlation! That's a good guess\n",
      "times: 16\n"
     ]
    }
   ],
   "source": [
    "import random\n",
    "random_num = random.randint(1,20)\n",
    "times = 0\n",
    "flag = True\n",
    "while flag:\n",
    "    guess_num = int(input(\"Please enter your guess number:\"))\n",
    "    times += 1\n",
    "    if guess_num == random_num:\n",
    "        print(\"Congradlation! That's a good guess\")\n",
    "        flag = False\n",
    "print(\"times:\" , times)"
   ]
  },
  {
   "cell_type": "code",
   "execution_count": null,
   "id": "c7f2042a",
   "metadata": {},
   "outputs": [],
   "source": []
  }
 ],
 "metadata": {
  "kernelspec": {
   "display_name": "Python 3 (ipykernel)",
   "language": "python",
   "name": "python3"
  },
  "language_info": {
   "codemirror_mode": {
    "name": "ipython",
    "version": 3
   },
   "file_extension": ".py",
   "mimetype": "text/x-python",
   "name": "python",
   "nbconvert_exporter": "python",
   "pygments_lexer": "ipython3",
   "version": "3.8.18"
  }
 },
 "nbformat": 4,
 "nbformat_minor": 5
}
