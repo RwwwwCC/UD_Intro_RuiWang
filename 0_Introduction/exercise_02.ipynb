{
 "cells": [
  {
   "cell_type": "code",
   "execution_count": 1,
   "id": "83d611f8",
   "metadata": {},
   "outputs": [
    {
     "name": "stdout",
     "output_type": "stream",
     "text": [
      "RuiWang\n",
      "111111@ucl.ac.uk\n",
      "22\n"
     ]
    }
   ],
   "source": [
    "name = 'RuiWang'\n",
    "email = '111111@ucl.ac.uk'\n",
    "age = '22'\n",
    "\n",
    "print(name + '\\n' + email + '\\n' + age)"
   ]
  },
  {
   "cell_type": "code",
   "execution_count": null,
   "id": "120fbf4f",
   "metadata": {},
   "outputs": [],
   "source": []
  }
 ],
 "metadata": {
  "kernelspec": {
   "display_name": "Python 3 (ipykernel)",
   "language": "python",
   "name": "python3"
  },
  "language_info": {
   "codemirror_mode": {
    "name": "ipython",
    "version": 3
   },
   "file_extension": ".py",
   "mimetype": "text/x-python",
   "name": "python",
   "nbconvert_exporter": "python",
   "pygments_lexer": "ipython3",
   "version": "3.8.18"
  }
 },
 "nbformat": 4,
 "nbformat_minor": 5
}
